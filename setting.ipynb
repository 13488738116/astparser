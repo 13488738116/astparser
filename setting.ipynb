{
 "cells": [
  {
   "attachments": {},
   "cell_type": "markdown",
   "metadata": {},
   "source": [
    "## 配置环境，生成.so文件"
   ]
  },
  {
   "cell_type": "code",
   "execution_count": 36,
   "metadata": {},
   "outputs": [
    {
     "data": {
      "text/plain": [
       "False"
      ]
     },
     "execution_count": 36,
     "metadata": {},
     "output_type": "execute_result"
    }
   ],
   "source": [
    "from tree_sitter import Language\n",
    "Language.build_library(\n",
    "  # so文件保存位置\n",
    "  'build/my-languages.so',\n",
    "\n",
    "  # vendor文件下git clone的仓库\n",
    "  [\n",
    "    'vendor/tree-sitter-java',\n",
    "    'vendor/tree-sitter-python',\n",
    "    'vendor/tree-sitter-cpp',\n",
    "    'vendor/tree-sitter-c-sharp',\n",
    "    'vendor/tree-sitter-javascript',\n",
    "    'vendor/tree-sitter-go',\n",
    "    'vendor/tree-sitter-php',\n",
    "    'vendor/tree-sitter-typescript/tsx/'\n",
    "  ]\n",
    ")"
   ]
  },
  {
   "attachments": {},
   "cell_type": "markdown",
   "metadata": {},
   "source": [
    "## 导入treesitter库，生成各个语言的parser"
   ]
  },
  {
   "cell_type": "code",
   "execution_count": 37,
   "metadata": {},
   "outputs": [],
   "source": [
    "from tree_sitter import Language, Parser\n",
    "CPP_LANGUAGE = Language('build/my-languages.so', 'cpp')\n",
    "PY_LANGUAGE = Language('build/my-languages.so', 'python')\n",
    "JAVA_LANGUAGE=Language('build/my-languages.so', 'java')\n",
    "JS_LANGUAGE=Language('build/my-languages.so', 'javascript')\n",
    "C_SHARP_LANGUAGE=Language('build/my-languages.so', 'c_sharp')\n",
    "GO_LANGUAGE=Language('build/my-languages.so', 'go')\n",
    "PHP_LANGUAGE=Language('build/my-languages.so', 'php')\n",
    "TYPESCRIPT_LANGUAGE=Language('build/my-languages.so','tsx')\n",
    "#Python\n",
    "py_parser = Parser()\n",
    "py_parser.set_language(PY_LANGUAGE)\n",
    "#Cpp\n",
    "cpp_parser=Parser()\n",
    "cpp_parser.set_language(CPP_LANGUAGE)\n",
    "#java\n",
    "java_parser=Parser()\n",
    "java_parser.set_language(JAVA_LANGUAGE)\n",
    "#JS\n",
    "js_parser=Parser()\n",
    "js_parser.set_language(JS_LANGUAGE)\n",
    "#c-sharp\n",
    "c_sharp_parser=Parser()\n",
    "c_sharp_parser.set_language(C_SHARP_LANGUAGE)\n",
    "#Go\n",
    "go_parser=Parser()\n",
    "go_parser.set_language(GO_LANGUAGE)\n",
    "#PHP\n",
    "php_parser=Parser()\n",
    "php_parser.set_language(PHP_LANGUAGE)\n",
    "#Typescript\n",
    "typescript_parser=Parser()\n",
    "typescript_parser.set_language(TYPESCRIPT_LANGUAGE)\n"
   ]
  },
  {
   "attachments": {},
   "cell_type": "markdown",
   "metadata": {},
   "source": [
    "## 生成嵌套列表格式的ast\n",
    "函数process_string(text,left='[[]',right='[]]',sep=','),将lisp风格的括号嵌套字符串转化为python列表。\n",
    "exp:(module(indicator))=>['module',['indicator']]\n",
    "函数code2ast(language:string,filepath:string)\n",
    "exp:\n",
    "\"examples/example_python.py\""
   ]
  },
  {
   "cell_type": "code",
   "execution_count": 38,
   "metadata": {},
   "outputs": [],
   "source": [
    "import re\n",
    "def process_string(text,left='[[]',right='[]]',sep=' '):\n",
    "    pat = r'({}|{}|{})'.format(left, right, sep)\n",
    "    tokens = re.split(pat, text)\n",
    "    stack = [[]]\n",
    "    for x in tokens:\n",
    "        if not x or re.match(sep, x): \n",
    "            continue\n",
    "        if re.match(left, x):\n",
    "            stack[-1].append([])\n",
    "            stack.append(stack[-1][-1])\n",
    "        elif re.match(right, x):\n",
    "            stack.pop()\n",
    "            if not stack:\n",
    "                return 'error: opening bracket is missing'\n",
    "                #raise ValueError('error: opening bracket is missing')\n",
    "        else:\n",
    "            stack[-1].append(x)\n",
    "    if len(stack) > 1:\n",
    "        return 'error: closing bracket is missing'\n",
    "        raise ValueError('error: closing bracket is missing')\n",
    "    return stack.pop()"
   ]
  },
  {
   "cell_type": "code",
   "execution_count": 39,
   "metadata": {},
   "outputs": [],
   "source": [
    "\n",
    "def code2ast(language:str,filepath:str):\n",
    "    with open(filepath, \"r\") as f:\n",
    "        code = f.read()\n",
    "    #生成parsetree\n",
    "    if language==\"Python\":\n",
    "        tree = py_parser.parse(bytes(code, \"utf8\"))\n",
    "    elif language==\"Cpp\":\n",
    "        tree=cpp_parser.parse(bytes(code,\"utf8\"))\n",
    "    elif language==\"java\":\n",
    "        tree=java_parser.parse(bytes(code,\"utf8\"))\n",
    "    elif language==\"javascript\":\n",
    "        tree=js_parser.parse(bytes(code,\"utf8\"))\n",
    "    elif language==\"C-sharp\":\n",
    "        tree=c_sharp_parser.parse(bytes(code,\"utf8\"))\n",
    "    elif language==\"Go\":\n",
    "        tree=go_parser.parse(bytes(code,\"utf8\"))\n",
    "    elif language==\"PHP\":\n",
    "        tree=php_parser.parse(bytes(code,\"utf8\"))\n",
    "    elif language==\"typescript\":\n",
    "        tree=typescript_parser.parse(bytes(code,\"utf8\"))\n",
    "    root_node=tree.root_node\n",
    "    string=root_node.sexp()\n",
    "    string=string.replace('(','[')\n",
    "    string=string.replace(')',']')\n",
    "    return process_string(string)"
   ]
  },
  {
   "attachments": {},
   "cell_type": "markdown",
   "metadata": {},
   "source": [
    "### 测试test"
   ]
  },
  {
   "cell_type": "code",
   "execution_count": 40,
   "metadata": {},
   "outputs": [
    {
     "name": "stdout",
     "output_type": "stream",
     "text": [
      "Cpp\n",
      "[['translation_unit', ['function_definition', 'type:', ['primitive_type'], 'declarator:', ['function_declarator', 'declarator:', ['identifier'], 'parameters:', ['parameter_list', ['parameter_declaration', 'type:', ['primitive_type'], 'declarator:', ['identifier']]]], 'body:', ['compound_statement', ['declaration', 'type:', ['primitive_type'], 'declarator:', ['init_declarator', 'declarator:', ['identifier'], 'value:', ['number_literal']]], ['for_statement', 'initializer:', ['declaration', 'type:', ['primitive_type'], 'declarator:', ['init_declarator', 'declarator:', ['identifier'], 'value:', ['number_literal']]], 'condition:', ['binary_expression', 'left:', ['identifier'], 'right:', ['identifier']], 'update:', ['update_expression', 'argument:', ['identifier']], 'body:', ['compound_statement', ['expression_statement', ['assignment_expression', 'left:', ['identifier'], 'right:', ['identifier']]]]], ['return_statement', ['identifier']]]]]]\n",
      "\n",
      "\n",
      "Python\n",
      "[['module', ['function_definition', 'name:', ['identifier'], 'parameters:', ['parameters', ['identifier']], 'body:', ['block', ['expression_statement', ['assignment', 'left:', ['identifier'], 'right:', ['integer']]], ['for_statement', 'left:', ['identifier'], 'right:', ['call', 'function:', ['identifier'], 'arguments:', ['argument_list', ['integer'], ['binary_operator', 'left:', ['identifier'], 'right:', ['integer']]]], 'body:', ['block', ['expression_statement', ['augmented_assignment', 'left:', ['identifier'], 'right:', ['identifier']]]]], ['return_statement', ['identifier']]]]]]\n",
      "\n",
      "\n"
     ]
    }
   ],
   "source": [
    "print(\"Cpp\")\n",
    "print(code2ast(\"Cpp\",\"examples/example_cpp.cpp\"))\n",
    "print(\"\\n\")\n",
    "print(\"Python\")\n",
    "print(code2ast(\"Python\",\"examples/example_python.py\"))\n",
    "print(\"\\n\")\n",
    "#print(\"java\")\n",
    "#print(code2ast(\"java\",\"examples/example_java.java\"))\n",
    "#print(\"\\n\")\n",
    "#print(\"JS\")\n",
    "#print(code2ast(\"javascript\",\"examples/example_js.js\"))\n",
    "#print(\"\\n\")\n",
    "#print(\"Go\")\n",
    "#print(code2ast(\"Go\",\"examples/example_go.go\"))\n",
    "#print(\"\\n\")\n",
    "#print(\"php\")\n",
    "#print(code2ast(\"PHP\",\"examples/example_php.php\"))\n",
    "#print(\"\\n\")\n",
    "#print(\"C-sharp\")\n",
    "#print(code2ast(\"C-sharp\",\"examples/example_c_sharp.cs\"))\n",
    "#print(\"\\n\")\n",
    "#print(\"TS\")\n",
    "#print(code2ast(\"typescript\",\"examples/example_ts.ts\"))\n",
    "#print(\"\\n\")\n"
   ]
  },
  {
   "attachments": {},
   "cell_type": "markdown",
   "metadata": {},
   "source": [
    "\n"
   ]
  }
 ],
 "metadata": {
  "kernelspec": {
   "display_name": "base",
   "language": "python",
   "name": "python3"
  },
  "language_info": {
   "codemirror_mode": {
    "name": "ipython",
    "version": 3
   },
   "file_extension": ".py",
   "mimetype": "text/x-python",
   "name": "python",
   "nbconvert_exporter": "python",
   "pygments_lexer": "ipython3",
   "version": "3.9.13"
  },
  "orig_nbformat": 4,
  "vscode": {
   "interpreter": {
    "hash": "ad2bdc8ecc057115af97d19610ffacc2b4e99fae6737bb82f5d7fb13d2f2c186"
   }
  }
 },
 "nbformat": 4,
 "nbformat_minor": 2
}
