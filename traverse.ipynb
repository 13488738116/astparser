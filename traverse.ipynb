{
 "cells": [
  {
   "cell_type": "code",
   "execution_count": null,
   "metadata": {},
   "outputs": [],
   "source": [
    "#用tree.walk()方法写树遍历算法\n",
    "def make_move(cursor,move,allnodes):\n",
    "    if(move==\"down\"):\n",
    "        allnodes.append(cursor.node.type)\n",
    "        if(cursor.goto_first_child()):\n",
    "            make_move(cursor,\"down\",allnodes)\n",
    "        elif(cursor.goto_next_sibling()):\n",
    "            make_move(cursor,\"right\",allnodes)\n",
    "        elif(cursor.goto_parent()):\n",
    "            make_move(cursor,\"up\",allnodes)\n",
    "    elif(move==\"right\"):\n",
    "        allnodes.append(cursor.node.type)\n",
    "        if(cursor.goto_first_child()):\n",
    "            make_move(cursor,\"down\",allnodes)\n",
    "        elif(cursor.goto_next_sibling()):\n",
    "            make_move(cursor,\"right\",allnodes)\n",
    "        elif(cursor.goto_parent()):\n",
    "            make_move(cursor,\"up\",allnodes)\n",
    "    elif(move==\"up\"):\n",
    "        if(cursor.goto_next_sibling()):\n",
    "            make_move(cursor,\"right\",allnodes)\n",
    "        elif(cursor.goto_parent()):\n",
    "            make_move(cursor,\"up\",allnodes)"
   ]
  },
  {
   "cell_type": "code",
   "execution_count": null,
   "metadata": {},
   "outputs": [],
   "source": [
    "cursor = tree.walk()\n",
    "cursor1=tree1.walk()\n",
    "allnodes=[]\n",
    "allnodes1=[]\n",
    "make_move(cursor,\"down\",allnodes)\n",
    "make_move(cursor1,\"down\",allnodes1)\n",
    "print(allnodes)\n",
    "print(allnodes1)\n",
    "from typing import *\n",
    "import json\n",
    "#自己写树遍历算法\n",
    "def traverse_tree(node):\n",
    "    if type(node) == list:   \n",
    "        for n in node:\n",
    "            traverse_tree(n)\n",
    "    else:\n",
    "        if node.children == []:\n",
    "            return\n",
    "        traverse_tree(node.children)\n",
    "\n",
    "#traverse_tree(root_node)"
   ]
  }
 ],
 "metadata": {
  "kernelspec": {
   "display_name": "base",
   "language": "python",
   "name": "python3"
  },
  "language_info": {
   "name": "python",
   "version": "3.9.13"
  },
  "orig_nbformat": 4,
  "vscode": {
   "interpreter": {
    "hash": "ad2bdc8ecc057115af97d19610ffacc2b4e99fae6737bb82f5d7fb13d2f2c186"
   }
  }
 },
 "nbformat": 4,
 "nbformat_minor": 2
}
